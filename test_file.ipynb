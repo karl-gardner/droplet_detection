{
  "nbformat": 4,
  "nbformat_minor": 0,
  "metadata": {
    "colab": {
      "name": "test_file.ipynb",
      "provenance": [],
      "collapsed_sections": [],
      "authorship_tag": "ABX9TyNOJvRgUn2/bf6rK7XJt7eR",
      "include_colab_link": true
    },
    "kernelspec": {
      "name": "python3",
      "display_name": "Python 3"
    },
    "language_info": {
      "name": "python"
    }
  },
  "cells": [
    {
      "cell_type": "markdown",
      "metadata": {
        "id": "view-in-github",
        "colab_type": "text"
      },
      "source": [
        "<a href=\"https://colab.research.google.com/github/karl-gardner/dropletdetection/blob/main/test_file.ipynb\" target=\"_parent\"><img src=\"https://colab.research.google.com/assets/colab-badge.svg\" alt=\"Open In Colab\"/></a>"
      ]
    },
    {
      "cell_type": "code",
      "execution_count": null,
      "metadata": {
        "colab": {
          "base_uri": "https://localhost:8080/"
        },
        "id": "P-LSNllwBTnG",
        "outputId": "5cf6425b-7bde-438c-e5b7-e8f47b1d805b"
      },
      "outputs": [
        {
          "output_type": "stream",
          "name": "stdout",
          "text": [
            "this is a test file to be added to github\n"
          ]
        }
      ],
      "source": [
        "x = 5\n",
        "y = 5.5\n",
        "print(\"this is a test file to be added to github\")"
      ]
    },
    {
      "cell_type": "markdown",
      "source": [
        "This is a test file"
      ],
      "metadata": {
        "id": "byLUcbNZBg8z"
      }
    },
    {
      "cell_type": "markdown",
      "source": [
        "This is a change"
      ],
      "metadata": {
        "id": "nQswkYQaIBW3"
      }
    },
    {
      "cell_type": "code",
      "source": [
        ""
      ],
      "metadata": {
        "id": "b7tff6WKBipn"
      },
      "execution_count": null,
      "outputs": []
    }
  ]
}