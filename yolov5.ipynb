{
  "nbformat": 4,
  "nbformat_minor": 0,
  "metadata": {
    "colab": {
      "name": "yolov5.ipynb",
      "provenance": [],
      "collapsed_sections": [],
      "mount_file_id": "17gvx4RBHy0hDKtHusN0bYzIC6RDbBN2a",
      "authorship_tag": "ABX9TyNDfm19Ru8Vg0AuPmPwcJQW",
      "include_colab_link": true
    },
    "kernelspec": {
      "name": "python3",
      "display_name": "Python 3"
    },
    "language_info": {
      "name": "python"
    },
    "accelerator": "GPU"
  },
  "cells": [
    {
      "cell_type": "markdown",
      "metadata": {
        "id": "view-in-github",
        "colab_type": "text"
      },
      "source": [
        "<a href=\"https://colab.research.google.com/github/karl-gardner/dropletdetection/blob/main/yolov5.ipynb\" target=\"_parent\"><img src=\"https://colab.research.google.com/assets/colab-badge.svg\" alt=\"Open In Colab\"/></a>"
      ]
    },
    {
      "cell_type": "markdown",
      "metadata": {
        "id": "NQkghdbzJR2o"
      },
      "source": [
        "<a align=\"left\" href=\"https://ultralytics.com/yolov5\" target=\"_blank\">\n",
        "<img width=\"1024\", src=\"https://user-images.githubusercontent.com/26833433/125273437-35b3fc00-e30d-11eb-9079-46f313325424.png\"></a>\n",
        "\n",
        "This is the **official YOLOv5 🚀 notebook** by **Ultralytics**, and is freely available for redistribution under the [GPL-3.0 license](https://choosealicense.com/licenses/gpl-3.0/). \n",
        "For more information please visit https://github.com/ultralytics/yolov5 and https://ultralytics.com. Thank you!"
      ]
    },
    {
      "cell_type": "markdown",
      "metadata": {
        "id": "HysLjSKjKA08"
      },
      "source": [
        "# 0. Setup\n",
        "\n",
        "Clone repo, install dependencies and check PyTorch and GPU."
      ]
    },
    {
      "cell_type": "code",
      "metadata": {
        "colab": {
          "base_uri": "https://localhost:8080/"
        },
        "id": "L_Ohn5yXJSrl",
        "outputId": "c5c0e15f-b9c5-4756-9aeb-4930a118cb9f"
      },
      "source": [
        "!git clone https://github.com/ultralytics/yolov5  # clone repo\n",
        "%cd yolov5\n",
        "%pip install -qr requirements.txt  # install dependencies\n",
        "\n",
        "import torch\n",
        "import os\n",
        "import matplotlib.pyplot as plt\n",
        "import numpy as np\n",
        "import cv2\n",
        "from IPython.display import Image, clear_output  # to display images\n",
        "\n",
        "clear_output()\n",
        "print(f\"Setup complete. Using torch {torch.__version__} ({torch.cuda.get_device_properties(0).name if torch.cuda.is_available() else 'CPU'})\")"
      ],
      "execution_count": 1,
      "outputs": [
        {
          "output_type": "stream",
          "name": "stdout",
          "text": [
            "Setup complete. Using torch 1.10.0+cu111 (Tesla P100-PCIE-16GB)\n"
          ]
        }
      ]
    },
    {
      "cell_type": "markdown",
      "metadata": {
        "id": "XF7fnR0oAV56"
      },
      "source": [
        "# 1. Curl droplet data from roboflow"
      ]
    },
    {
      "cell_type": "markdown",
      "source": [
        "Data With Augmentation for Training"
      ],
      "metadata": {
        "id": "X8nHU2NJzz4V"
      }
    },
    {
      "cell_type": "code",
      "metadata": {
        "id": "xhn2U849AWNr"
      },
      "source": [
        "%cd /content\n",
        "!curl -L \"https://app.roboflow.com/ds/QcJFalciQq?key=iMNChnDmkx\" > roboflow.zip; unzip roboflow.zip; rm roboflow.zip\n",
        "clear_output()"
      ],
      "execution_count": 2,
      "outputs": []
    },
    {
      "cell_type": "markdown",
      "source": [
        "Data with No Augmentation"
      ],
      "metadata": {
        "id": "R-bu4cGtz6p0"
      }
    },
    {
      "cell_type": "code",
      "source": [
        "# %cd /content\n",
        "# !curl -L \"https://app.roboflow.com/ds/c8DisHIluR?key=l4N5Huf2x5\" > roboflow.zip; unzip roboflow.zip; rm roboflow.zip\n",
        "# clear_output()"
      ],
      "metadata": {
        "id": "puTXkA3Dz61A"
      },
      "execution_count": 3,
      "outputs": []
    },
    {
      "cell_type": "markdown",
      "metadata": {
        "id": "hkkReo_oLCD2"
      },
      "source": [
        "# 2. Train\n",
        "\n",
        "<p align=\"\"><a href=\"https://roboflow.com/?ref=ultralytics\"><img width=\"1000\" src=\"https://uploads-ssl.webflow.com/5f6bc60e665f54545a1e52a5/615338ba77195c71bd2c5ab1_computer-vision-flow.png\"/></a></p>\n",
        "Close the active learning loop by sampling images from your inference conditions with the `roboflow` pip package\n",
        "<br><br>\n",
        "\n",
        "Train a YOLOv5s model on the [COCO128](https://www.kaggle.com/ultralytics/coco128) dataset with `--data coco128.yaml`, starting from pretrained `--weights yolov5s.pt`, or from randomly initialized `--weights '' --cfg yolov5s.yaml`.\n",
        "\n",
        "- **Pretrained [Models](https://github.com/ultralytics/yolov5/tree/master/models)** are downloaded\n",
        "automatically from the [latest YOLOv5 release](https://github.com/ultralytics/yolov5/releases)\n",
        "- **[Datasets](https://github.com/ultralytics/yolov5/tree/master/data)** available for autodownload include: [COCO](https://github.com/ultralytics/yolov5/blob/master/data/coco.yaml), [COCO128](https://github.com/ultralytics/yolov5/blob/master/data/coco128.yaml), [VOC](https://github.com/ultralytics/yolov5/blob/master/data/VOC.yaml), [Argoverse](https://github.com/ultralytics/yolov5/blob/master/data/Argoverse.yaml), [VisDrone](https://github.com/ultralytics/yolov5/blob/master/data/VisDrone.yaml), [GlobalWheat](https://github.com/ultralytics/yolov5/blob/master/data/GlobalWheat2020.yaml), [xView](https://github.com/ultralytics/yolov5/blob/master/data/xView.yaml), [Objects365](https://github.com/ultralytics/yolov5/blob/master/data/Objects365.yaml), [SKU-110K](https://github.com/ultralytics/yolov5/blob/master/data/SKU-110K.yaml).\n",
        "- **Training Results** are saved to `runs/train/` with incrementing run directories, i.e. `runs/train/exp2`, `runs/train/exp3` etc.\n",
        "<br><br>\n",
        "\n",
        "## Train on Custom Data with Roboflow 🌟 NEW\n",
        "\n",
        "[Roboflow](https://roboflow.com/?ref=ultralytics) enables you to easily **organize, label, and prepare** a high quality dataset with your own custom data. Roboflow also makes it easy to establish an active learning pipeline, collaborate with your team on dataset improvement, and integrate directly into your model building workflow with the `roboflow` pip package.\n",
        "\n",
        "- Custom Training Example: [https://blog.roboflow.com/how-to-train-yolov5-on-a-custom-dataset/](https://blog.roboflow.com/how-to-train-yolov5-on-a-custom-dataset/?ref=ultralytics)\n",
        "- Custom Training Notebook: [![Open In Colab](https://colab.research.google.com/assets/colab-badge.svg)](https://colab.research.google.com/github/roboflow-ai/yolov5-custom-training-tutorial/blob/main/yolov5-custom-training.ipynb)\n",
        "<br>\n",
        "\n",
        "<p align=\"\"><a href=\"https://roboflow.com/?ref=ultralytics\"><img width=\"480\" src=\"https://uploads-ssl.webflow.com/5f6bc60e665f54545a1e52a5/6152a275ad4b4ac20cd2e21a_roboflow-annotate.gif\"/></a></p>Label images lightning fast (including with model-assisted labeling)"
      ]
    },
    {
      "cell_type": "code",
      "metadata": {
        "id": "I7hRNPQOLMYe"
      },
      "source": [
        "# # # Train YOLOv5s on COCO128 for 3 epochs\n",
        "# %cd /content/yolov5\n",
        "# !python train.py --img 544 --batch 32 --epochs 800 --data '/content/drive/MyDrive/droplet_classification_2/data_files/data.yaml' --weights '' --cfg ./models/yolov5m.yaml --cache"
      ],
      "execution_count": 4,
      "outputs": []
    },
    {
      "cell_type": "code",
      "metadata": {
        "id": "lOhzdRi7xiL8"
      },
      "source": [
        "# %cp /content/yolov5/runs/train/exp/weights/best.pt /content/drive/MyDrive/droplet_classification_2/data_files/yolov5_weights_365_best.pt"
      ],
      "execution_count": 5,
      "outputs": []
    },
    {
      "cell_type": "markdown",
      "metadata": {
        "id": "gH3wycG3Zisv"
      },
      "source": [
        "# 2. Test"
      ]
    },
    {
      "cell_type": "markdown",
      "source": [
        "mAP calculation for droplet model test set"
      ],
      "metadata": {
        "id": "-oFEMHt31qVe"
      }
    },
    {
      "cell_type": "code",
      "metadata": {
        "id": "tHgauumJZlCY"
      },
      "source": [
        "# # Run YOLOv5s on COCO test-dev2017 using --task test\n",
        "# %cd /content/yolov5\n",
        "# !python val.py --weights /content/drive/MyDrive/droplet_classification_2/data_files/yolov5_weights_365_best.pt --img 544 --data /content/drive/MyDrive/droplet_classification_2/data_files/data.yaml --task test"
      ],
      "execution_count": 6,
      "outputs": []
    },
    {
      "cell_type": "markdown",
      "metadata": {
        "id": "gA60FSURvOrx"
      },
      "source": [
        "# 3. Conduct average run times across test set to get FPS"
      ]
    },
    {
      "cell_type": "code",
      "metadata": {
        "id": "f9zG1-MavQZZ",
        "colab": {
          "base_uri": "https://localhost:8080/"
        },
        "outputId": "496c386b-ca78-487a-e202-cc307f2ee6f3"
      },
      "source": [
        "%cd /content/yolov5\n",
        "!python detect.py --weights /content/drive/MyDrive/droplet_classification_2/data_files/yolov5_weights_365_best.pt --img 544 --conf-thres 0.6 --source=../test/images"
      ],
      "execution_count": 7,
      "outputs": [
        {
          "output_type": "stream",
          "name": "stdout",
          "text": [
            "/content/yolov5\n",
            "Downloading https://ultralytics.com/assets/Arial.ttf to /root/.config/Ultralytics/Arial.ttf...\n",
            "\u001b[34m\u001b[1mdetect: \u001b[0mweights=['/content/drive/MyDrive/droplet_classification_2/data_files/yolov5_weights_365_best.pt'], source=../test/images, data=data/coco128.yaml, imgsz=[544, 544], conf_thres=0.6, iou_thres=0.45, max_det=1000, device=, view_img=False, save_txt=False, save_conf=False, save_crop=False, nosave=False, classes=None, agnostic_nms=False, augment=False, visualize=False, update=False, project=runs/detect, name=exp, exist_ok=False, line_thickness=3, hide_labels=False, hide_conf=False, half=False, dnn=False\n",
            "YOLOv5 🚀 v6.0-174-g7b31a53 torch 1.10.0+cu111 CUDA:0 (Tesla P100-PCIE-16GB, 16281MiB)\n",
            "\n",
            "Fusing layers... \n",
            "Model Summary: 290 layers, 20865057 parameters, 0 gradients, 48.0 GFLOPs\n",
            "image 1/70 /content/test/images/test_000151_png.rf.0068cf699db48c2be32f06edae368571.jpg: 544x544 1 drop_0cell, 4 drop_1cells, 1 drop_2cell, 1 drop_3cell, Done. (0.067s)\n",
            "image 2/70 /content/test/images/test_000881_png.rf.45b46c8266bfb76bbfa1cbfe82f8ddb4.jpg: 544x544 3 drop_0cells, 3 drop_1cells, 3 drop_2cells, 2 drop_3cells, Done. (0.064s)\n",
            "image 3/70 /content/test/images/test_00101_Cam_V710_Cine1_png.rf.8a4931e50b7f32883a623779ece85187.jpg: 544x544 7 drop_0cells, 5 drop_1cells, 8 drop_2cells, 7 drop_3cells, Done. (0.064s)\n",
            "image 4/70 /content/test/images/test_00151_Cam_V710_Cine1_png.rf.9eb3e2d8f65a839a5aa801f3cce45109.jpg: 544x544 8 drop_0cells, 9 drop_1cells, 6 drop_2cells, 8 drop_3cells, Done. (0.064s)\n",
            "image 5/70 /content/test/images/test_002101_png.rf.62aa5e4786c60186271fc4a070978842.jpg: 544x544 3 drop_0cells, 1 drop_1cell, 1 drop_2cell, 6 drop_3cells, Done. (0.064s)\n",
            "image 6/70 /content/test/images/test_002761_png.rf.66c38c4924a7db6d6916b915306d781c.jpg: 544x544 4 drop_0cells, 3 drop_1cells, 7 drop_2cells, 2 drop_3cells, Done. (0.064s)\n",
            "image 7/70 /content/test/images/test_002961_png.rf.654ba5f42a60a6cd6620baad86375867.jpg: 544x544 5 drop_0cells, 5 drop_1cells, 2 drop_2cells, 3 drop_3cells, Done. (0.065s)\n",
            "image 8/70 /content/test/images/test_003321_png.rf.eb2458d68c3bf4e905423480de55333e.jpg: 544x544 5 drop_0cells, 6 drop_1cells, 3 drop_2cells, 3 drop_3cells, Done. (0.066s)\n",
            "image 9/70 /content/test/images/test_003401_png.rf.1ef905e7dbc0b4a1718cffa8b11d7767.jpg: 544x544 4 drop_0cells, 3 drop_1cells, 5 drop_2cells, 2 drop_3cells, Done. (0.064s)\n",
            "image 10/70 /content/test/images/test_003501_png.rf.2e1c4a572d3092f6fddfd988a322bedc.jpg: 544x544 5 drop_0cells, 1 drop_1cell, 3 drop_3cells, Done. (0.064s)\n",
            "image 11/70 /content/test/images/test_00751_Cam_V710_Cine1_png.rf.59a3623615bf58c238728e7e2fbbb8b7.jpg: 544x544 4 drop_0cells, 7 drop_1cells, 10 drop_2cells, 7 drop_3cells, Done. (0.064s)\n",
            "image 12/70 /content/test/images/test_00801_Cam_V710_Cine1_png.rf.87cef69592168e8a58706cf12d67e617.jpg: 544x544 1 drop_0cell, 7 drop_1cells, 3 drop_2cells, 7 drop_3cells, Done. (0.064s)\n",
            "image 13/70 /content/test/images/test_00851_Cam_V710_Cine1_png.rf.11d7900bc4669f041a732fe6f3e5a288.jpg: 544x544 2 drop_0cells, 12 drop_1cells, 12 drop_2cells, 6 drop_3cells, Done. (0.064s)\n",
            "image 14/70 /content/test/images/test_01151_Cam_V710_Cine1_png.rf.11fc93f62082f56f7aae30f205c3503b.jpg: 544x544 3 drop_0cells, 9 drop_1cells, 7 drop_2cells, 9 drop_3cells, Done. (0.064s)\n",
            "image 15/70 /content/test/images/test_01201_Cam_V710_Cine1_png.rf.9888355ee51fb0ea740ee5188c9cb3d9.jpg: 544x544 2 drop_0cells, 15 drop_1cells, 7 drop_2cells, 7 drop_3cells, Done. (0.064s)\n",
            "image 16/70 /content/test/images/test_01251_Cam_V710_Cine1_png.rf.9f94e599893e6f28b81420c25853b358.jpg: 544x544 5 drop_0cells, 9 drop_1cells, 11 drop_2cells, 6 drop_3cells, Done. (0.064s)\n",
            "image 17/70 /content/test/images/test_01351_Cam_V710_Cine1_png.rf.cf1e8512e016ba9cb60f79ad707b25cd.jpg: 544x544 5 drop_0cells, 10 drop_1cells, 6 drop_2cells, 9 drop_3cells, Done. (0.064s)\n",
            "image 18/70 /content/test/images/test_01651_Cam_V710_Cine1_png.rf.23825def24307de35a31b68b14fbdc99.jpg: 544x544 28 drop_0cells, 9 drop_1cells, 2 drop_2cells, 2 drop_3cells, Done. (0.064s)\n",
            "image 19/70 /content/test/images/test_01651_Cam_V710_Cine1_png.rf.b8490961691f27c0b53d75a937fb40b9.jpg: 544x544 4 drop_0cells, 8 drop_1cells, 7 drop_2cells, 11 drop_3cells, Done. (0.064s)\n",
            "image 20/70 /content/test/images/test_01801_Cam_V710_Cine1_png.rf.817867fde8af53c8b866930eaac82f28.jpg: 544x544 13 drop_0cells, 12 drop_1cells, 5 drop_2cells, 5 drop_3cells, Done. (0.064s)\n",
            "image 21/70 /content/test/images/test_018721_png.rf.0156d411c7b2134234a6ca982ffb9034.jpg: 544x544 4 drop_0cells, 1 drop_2cell, 3 drop_3cells, Done. (0.064s)\n",
            "image 22/70 /content/test/images/test_019961_png.rf.5b41640201003d25b4f6bbe9e6b4f340.jpg: 544x544 6 drop_0cells, 3 drop_1cells, 4 drop_2cells, 4 drop_3cells, Done. (0.064s)\n",
            "image 23/70 /content/test/images/test_020041_png.rf.7917c98214bd5ca0a426e6ae0cb7f292.jpg: 544x544 2 drop_0cells, 4 drop_1cells, 1 drop_2cell, 5 drop_3cells, Done. (0.064s)\n",
            "image 24/70 /content/test/images/test_020081_png.rf.f3751475a366195bcec5888aac8bd465.jpg: 544x544 4 drop_0cells, 3 drop_1cells, 3 drop_2cells, 7 drop_3cells, Done. (0.064s)\n",
            "image 25/70 /content/test/images/test_020121_png.rf.3bd7b3fa0d193365959878e4e3209ab1.jpg: 544x544 1 drop_1cell, 1 drop_2cell, 7 drop_3cells, Done. (0.064s)\n",
            "image 26/70 /content/test/images/test_021881_png.rf.86190b2436ebae0250696d1c3b002845.jpg: 544x544 2 drop_0cells, 2 drop_1cells, 10 drop_2cells, 1 drop_3cell, Done. (0.064s)\n",
            "image 27/70 /content/test/images/test_02351_Cam_V710_Cine1_png.rf.203c9ace9da2919a7afffc33dfc7b77f.jpg: 544x544 11 drop_0cells, 7 drop_1cells, 9 drop_2cells, 4 drop_3cells, Done. (0.064s)\n",
            "image 28/70 /content/test/images/test_03001_Cam_V710_Cine1_png.rf.b757ed8bed8ca38e859a550e84649f29.jpg: 544x544 4 drop_0cells, 5 drop_1cells, 5 drop_2cells, 8 drop_3cells, Done. (0.064s)\n",
            "image 29/70 /content/test/images/test_03051_png.rf.afd740e3bdfdbad188f61543a3ae619b.jpg: 544x544 24 drop_0cells, 13 drop_1cells, 3 drop_2cells, 2 drop_3cells, Done. (0.064s)\n",
            "image 30/70 /content/test/images/test_03201_Cam_V710_Cine1_png.rf.a3c2981597f1e2562654ca4b2470231c.jpg: 544x544 6 drop_0cells, 3 drop_1cells, 9 drop_2cells, 9 drop_3cells, Done. (0.064s)\n",
            "image 31/70 /content/test/images/test_03251_Cam_V710_Cine1_png.rf.b2cde5cd55935c72e6985f87a2cd94d0.jpg: 544x544 3 drop_0cells, 7 drop_1cells, 7 drop_2cells, 5 drop_3cells, Done. (0.064s)\n",
            "image 32/70 /content/test/images/test_04401_Cam_V710_Cine1_png.rf.42cd4c22371045fa5e9595ce7f3bd5f3.jpg: 544x544 9 drop_0cells, 14 drop_1cells, 3 drop_2cells, 9 drop_3cells, Done. (0.064s)\n",
            "image 33/70 /content/test/images/test_05101_Cam_V710_Cine1_png.rf.1eb83d34828ff0be3c78dcc8e67277ee.jpg: 544x544 31 drop_0cells, 7 drop_1cells, 2 drop_2cells, 1 drop_3cell, Done. (0.064s)\n",
            "image 34/70 /content/test/images/test_05101_Cam_V710_Cine1_png.rf.cae47da8123de56e78a5d019f5932d1b.jpg: 544x544 3 drop_0cells, 8 drop_1cells, 11 drop_2cells, 10 drop_3cells, Done. (0.064s)\n",
            "image 35/70 /content/test/images/test_05151_Cam_V710_Cine1_png.rf.8d77bb2167144bd549b65de2a30e7b03.jpg: 544x544 13 drop_0cells, 9 drop_1cells, 12 drop_2cells, 6 drop_3cells, Done. (0.064s)\n",
            "image 36/70 /content/test/images/test_05251_Cam_V710_Cine1_png.rf.cf18f168434b177c844a85b1030696ba.jpg: 544x544 3 drop_0cells, 6 drop_1cells, 14 drop_2cells, 12 drop_3cells, Done. (0.064s)\n",
            "image 37/70 /content/test/images/test_05301_Cam_V710_Cine1_png.rf.be5aabb9d147a71801fa83b365101c4d.jpg: 544x544 2 drop_0cells, 9 drop_1cells, 3 drop_2cells, 13 drop_3cells, Done. (0.066s)\n",
            "image 38/70 /content/test/images/test_05501_Cam_V710_Cine1_png.rf.21e52ac1f023db64ff34351c1369dbb4.jpg: 544x544 8 drop_0cells, 12 drop_1cells, 10 drop_2cells, 5 drop_3cells, Done. (0.064s)\n",
            "image 39/70 /content/test/images/test_05751_Cam_V710_Cine1_png.rf.a193d06586cdff1c9124381192d28e03.jpg: 544x544 9 drop_0cells, 10 drop_1cells, 9 drop_2cells, 11 drop_3cells, Done. (0.064s)\n",
            "image 40/70 /content/test/images/test_05851_Cam_V710_Cine1_png.rf.d348c23441f6a0a81442b81564630c32.jpg: 544x544 7 drop_0cells, 10 drop_1cells, 6 drop_2cells, 10 drop_3cells, Done. (0.064s)\n",
            "image 41/70 /content/test/images/test_06051_Cam_V710_Cine1_png.rf.5ebbf1f39af93816543d3fc9d04559ab.jpg: 544x544 4 drop_0cells, 2 drop_1cells, 4 drop_2cells, 8 drop_3cells, Done. (0.064s)\n",
            "image 42/70 /content/test/images/test_06851_Cam_V710_Cine1_png.rf.1f9a69e9202bd386c057744a4200e16e.jpg: 544x544 5 drop_0cells, 5 drop_1cells, 4 drop_2cells, 10 drop_3cells, Done. (0.065s)\n",
            "image 43/70 /content/test/images/test_06901_Cam_V710_Cine1_png.rf.6991320bfb22582cafb3370d69febae1.jpg: 544x544 8 drop_0cells, 10 drop_1cells, 10 drop_2cells, 7 drop_3cells, Done. (0.064s)\n",
            "image 44/70 /content/test/images/test_07001_Cam_V710_Cine1_png.rf.cdb14ae29264002bb75f337be69d15db.jpg: 544x544 3 drop_0cells, 3 drop_1cells, 2 drop_2cells, 8 drop_3cells, Done. (0.064s)\n",
            "image 45/70 /content/test/images/test_07051_Cam_V710_Cine1_png.rf.52a6adf508f3dd4b7acff74d21428a06.jpg: 544x544 7 drop_0cells, 13 drop_1cells, 8 drop_2cells, 8 drop_3cells, Done. (0.064s)\n",
            "image 46/70 /content/test/images/test_07501_Cam_V710_Cine1_png.rf.e43f59e3156132404c614a47d92ea973.jpg: 544x544 10 drop_0cells, 8 drop_1cells, 12 drop_2cells, 5 drop_3cells, Done. (0.064s)\n",
            "image 47/70 /content/test/images/test_07651_Cam_V710_Cine1_png.rf.f45bcf21840cc8481034f4180b567837.jpg: 544x544 2 drop_3cells, Done. (0.064s)\n",
            "image 48/70 /content/test/images/test_07701_Cam_V710_Cine1_png.rf.8d0f19b4ce48ea405f23ca5d4a211ddf.jpg: 544x544 2 drop_0cells, 2 drop_1cells, 4 drop_2cells, 4 drop_3cells, Done. (0.064s)\n",
            "image 49/70 /content/test/images/test_07951_Cam_V710_Cine1_png.rf.80ce6f5321d26fa254b741764cedc26a.jpg: 544x544 9 drop_0cells, 15 drop_1cells, 7 drop_2cells, 6 drop_3cells, Done. (0.064s)\n",
            "image 50/70 /content/test/images/test_09401_Cam_V710_Cine1_png.rf.db832afe9fa33f84d2fa4322f830fff0.jpg: 544x544 8 drop_0cells, 11 drop_1cells, 13 drop_2cells, 7 drop_3cells, Done. (0.064s)\n",
            "image 51/70 /content/test/images/test_09701_Cam_V710_Cine1_png.rf.2febf59b2b876568db8c3e4433cf5d1a.jpg: 544x544 9 drop_0cells, 7 drop_1cells, 12 drop_2cells, 5 drop_3cells, Done. (0.064s)\n",
            "image 52/70 /content/test/images/test_10301_Cam_V710_Cine1_png.rf.a50ca8ccd06b36bee1fa65d48c81a86c.jpg: 544x544 8 drop_0cells, 9 drop_1cells, 11 drop_2cells, 8 drop_3cells, Done. (0.064s)\n",
            "image 53/70 /content/test/images/test_11101_Cam_V710_Cine1_png.rf.0aa4222cffa5448c520a016bd25eeaf7.jpg: 544x544 9 drop_0cells, 13 drop_1cells, 5 drop_2cells, 5 drop_3cells, Done. (0.064s)\n",
            "image 54/70 /content/test/images/test_11951_Cam_V710_Cine1_png.rf.a549ec5ae9fc8112e16d3d783ea63578.jpg: 544x544 12 drop_0cells, 14 drop_1cells, 6 drop_2cells, 6 drop_3cells, Done. (0.064s)\n",
            "image 55/70 /content/test/images/test_12351_Cam_V710_Cine1_png.rf.65cd0b8f8cc7efbae8898af2abf3327a.jpg: 544x544 12 drop_0cells, 8 drop_1cells, 10 drop_2cells, 7 drop_3cells, Done. (0.064s)\n",
            "image 56/70 /content/test/images/test_13501_Cam_V710_Cine1_png.rf.e2cd0e493c941d52e73f49bc149a5d38.jpg: 544x544 11 drop_0cells, 10 drop_1cells, 10 drop_2cells, 4 drop_3cells, Done. (0.064s)\n",
            "image 57/70 /content/test/images/test_13601_Cam_V710_Cine1_png.rf.abd178a87009b8d0b67a2b3cfe2b32f9.jpg: 544x544 6 drop_0cells, 10 drop_1cells, 4 drop_2cells, 9 drop_3cells, Done. (0.064s)\n",
            "image 58/70 /content/test/images/test_13701_Cam_V710_Cine1_png.rf.51591dd79548849481e919b512e3c9cd.jpg: 544x544 13 drop_0cells, 10 drop_1cells, 7 drop_2cells, 7 drop_3cells, Done. (0.064s)\n",
            "image 59/70 /content/test/images/test_14251_Cam_V710_Cine1_png.rf.4ee97daa6a9eed846cd6ec02ddba73cb.jpg: 544x544 11 drop_0cells, 11 drop_1cells, 7 drop_2cells, 7 drop_3cells, Done. (0.064s)\n",
            "image 60/70 /content/test/images/test_14301_Cam_V710_Cine1_png.rf.b1ee4cee71bebd4d675bb740c035f8a2.jpg: 544x544 7 drop_0cells, 7 drop_1cells, 5 drop_2cells, 14 drop_3cells, Done. (0.064s)\n",
            "image 61/70 /content/test/images/test_14401_Cam_V710_Cine1_png.rf.a854a2add7554b0273d6b263b6993676.jpg: 544x544 3 drop_0cells, 12 drop_1cells, 11 drop_2cells, 9 drop_3cells, Done. (0.064s)\n",
            "image 62/70 /content/test/images/test_14501_Cam_V710_Cine1_png.rf.cdd45c51441d7118b0719e0420fbaf14.jpg: 544x544 3 drop_0cells, 9 drop_1cells, 8 drop_2cells, 11 drop_3cells, Done. (0.064s)\n",
            "image 63/70 /content/test/images/test_14901_Cam_V710_Cine1_png.rf.a15d38f6cbb6c3c17df97dc71f8d2e8c.jpg: 544x544 6 drop_0cells, 13 drop_1cells, 8 drop_2cells, 5 drop_3cells, Done. (0.064s)\n",
            "image 64/70 /content/test/images/test_15101_Cam_V710_Cine1_png.rf.5a11b16f9da8b298c874b667cdc5257a.jpg: 544x544 10 drop_0cells, 13 drop_1cells, 9 drop_2cells, 5 drop_3cells, Done. (0.064s)\n",
            "image 65/70 /content/test/images/test_15151_Cam_V710_Cine1_png.rf.2649aa56aabb2240ac0a5ffad8ba4d53.jpg: 544x544 16 drop_0cells, 14 drop_1cells, 7 drop_2cells, 4 drop_3cells, Done. (0.064s)\n",
            "image 66/70 /content/test/images/test_15301_Cam_V710_Cine1_png.rf.c37bcfcb6defdd15ccae732db6a0d598.jpg: 544x544 18 drop_0cells, 15 drop_1cells, 11 drop_2cells, 4 drop_3cells, Done. (0.065s)\n",
            "image 67/70 /content/test/images/test_15401_Cam_V710_Cine1_png.rf.e53b72179e9a9ed99a7ef1f87fc70016.jpg: 544x544 16 drop_0cells, 11 drop_1cells, 9 drop_2cells, 4 drop_3cells, Done. (0.064s)\n",
            "image 68/70 /content/test/images/test_15701_Cam_V710_Cine1_png.rf.1e44121ec27f5dbb8a4684d760503968.jpg: 544x544 11 drop_0cells, 17 drop_1cells, 8 drop_2cells, 6 drop_3cells, Done. (0.064s)\n",
            "image 69/70 /content/test/images/test_16701_Cam_V710_Cine1_png.rf.e22257f7b9e1234ba3db22000940801a.jpg: 544x544 5 drop_0cells, 13 drop_1cells, 6 drop_2cells, 9 drop_3cells, Done. (0.064s)\n",
            "image 70/70 /content/test/images/test_16901_Cam_V710_Cine1_png.rf.638f085eb1d1b37aeccf1a73358ab45e.jpg: 544x544 6 drop_0cells, 11 drop_1cells, 7 drop_2cells, 7 drop_3cells, Done. (0.064s)\n",
            "Speed: 0.5ms pre-process, 64.2ms inference, 1.4ms NMS per image at shape (1, 3, 544, 544)\n",
            "Results saved to \u001b[1mruns/detect/exp\u001b[0m\n"
          ]
        }
      ]
    },
    {
      "cell_type": "markdown",
      "metadata": {
        "id": "LktxWj6PlVxt"
      },
      "source": [
        "# Computer Statistics"
      ]
    },
    {
      "cell_type": "code",
      "metadata": {
        "id": "UnAA4aLilU7R"
      },
      "source": [
        "# !nvidia-smi -L\n",
        "# !nvidia-smi"
      ],
      "execution_count": 8,
      "outputs": []
    },
    {
      "cell_type": "code",
      "metadata": {
        "id": "T3WlIpS9laaK"
      },
      "source": [
        "# !lscpu |grep 'Model name'\n",
        "\n",
        "# #no.of sockets i.e available slots for physical processors\n",
        "# !lscpu | grep 'Socket(s):'\n",
        "\n",
        "# #no.of cores each processor is having \n",
        "# !lscpu | grep 'Core(s) per socket:'\n",
        "\n",
        "# #no.of threads each core is having\n",
        "# !lscpu | grep 'Thread(s) per core'\n",
        "\n",
        "# !lscpu | grep \"L3 cache\" \n",
        "\n",
        "# #if it had turbo boost it would've shown Min and Max MHz also but it is only showing current frequency this means it always operates at shown frequency\n",
        "# !lscpu | grep \"MHz\"\n",
        "\n",
        "# #memory that we can use\n",
        "# !free -h --si | awk  '/Mem:/{print $2}'\n",
        "\n",
        "# #hard disk space that we can use\n",
        "# !df -h / | awk '{print $4}'"
      ],
      "execution_count": 9,
      "outputs": []
    }
  ]
}