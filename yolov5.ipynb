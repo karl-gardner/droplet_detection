{
  "nbformat": 4,
  "nbformat_minor": 0,
  "metadata": {
    "colab": {
      "name": "yolov5.ipynb",
      "provenance": [],
      "collapsed_sections": [],
      "authorship_tag": "ABX9TyPeMlqKH27Xvz+q+hSIs6Sm",
      "include_colab_link": true
    },
    "kernelspec": {
      "name": "python3",
      "display_name": "Python 3"
    },
    "language_info": {
      "name": "python"
    },
    "accelerator": "GPU"
  },
  "cells": [
    {
      "cell_type": "markdown",
      "metadata": {
        "id": "view-in-github",
        "colab_type": "text"
      },
      "source": [
        "<a href=\"https://colab.research.google.com/github/karl-gardner/droplet_detection/blob/master/yolov5.ipynb\" target=\"_parent\"><img src=\"https://colab.research.google.com/assets/colab-badge.svg\" alt=\"Open In Colab\"/></a>"
      ]
    },
    {
      "cell_type": "markdown",
      "metadata": {
        "id": "NQkghdbzJR2o"
      },
      "source": [
        "<a align=\"left\" href=\"https://ultralytics.com/yolov5\" target=\"_blank\">\n",
        "<img width=\"1024\", src=\"https://user-images.githubusercontent.com/26833433/125273437-35b3fc00-e30d-11eb-9079-46f313325424.png\"></a>\n",
        "\n",
        "This is the **official YOLOv5 🚀 notebook** by **Ultralytics**, and is freely available for redistribution under the [GPL-3.0 license](https://choosealicense.com/licenses/gpl-3.0/). \n",
        "For more information please visit https://github.com/ultralytics/yolov5 and https://ultralytics.com. Thank you!"
      ]
    },
    {
      "cell_type": "markdown",
      "metadata": {
        "id": "HysLjSKjKA08"
      },
      "source": [
        "# 0. Setup\n",
        "\n",
        "Clone repo, install dependencies and check PyTorch and GPU."
      ]
    },
    {
      "cell_type": "code",
      "metadata": {
        "colab": {
          "base_uri": "https://localhost:8080/"
        },
        "id": "L_Ohn5yXJSrl",
        "outputId": "b2bac279-5350-4ab0-9f2f-ba18ce950572"
      },
      "source": [
        "!git clone https://github.com/karl-gardner/droplet_detection  # clone repo\n",
        "%cd /content/droplet_detection/yolov5\n",
        "%pip install -qr requirements.txt  # install dependencies\n",
        "\n",
        "import torch\n",
        "import os\n",
        "import matplotlib.pyplot as plt\n",
        "import numpy as np\n",
        "import cv2\n",
        "from IPython.display import Image, clear_output  # to display images\n",
        "from google.colab import files\n",
        "import csv\n",
        "\n",
        "clear_output()\n",
        "print(f\"Setup complete. Using torch {torch.__version__} ({torch.cuda.get_device_properties(0).name if torch.cuda.is_available() else 'CPU'})\")"
      ],
      "execution_count": 1,
      "outputs": [
        {
          "output_type": "stream",
          "name": "stdout",
          "text": [
            "Setup complete. Using torch 1.11.0+cu113 (Tesla P100-PCIE-16GB)\n"
          ]
        }
      ]
    },
    {
      "cell_type": "code",
      "source": [
        "from google.colab import drive\n",
        "drive.mount('/content/drive')"
      ],
      "metadata": {
        "colab": {
          "base_uri": "https://localhost:8080/"
        },
        "id": "9APKIDtzKpJQ",
        "outputId": "6b833607-d0f9-4eeb-d437-b26c589377e3"
      },
      "execution_count": 2,
      "outputs": [
        {
          "output_type": "stream",
          "name": "stdout",
          "text": [
            "Mounted at /content/drive\n"
          ]
        }
      ]
    },
    {
      "cell_type": "markdown",
      "metadata": {
        "id": "XF7fnR0oAV56"
      },
      "source": [
        "# 1. Curl droplet dataset from roboflow (PC3DropletDetection2)"
      ]
    },
    {
      "cell_type": "markdown",
      "source": [
        "Data With Augmentation for Training (final_dataset)"
      ],
      "metadata": {
        "id": "X8nHU2NJzz4V"
      }
    },
    {
      "cell_type": "code",
      "metadata": {
        "id": "xhn2U849AWNr"
      },
      "source": [
        "%cd /content/droplet_detection\n",
        "!curl -L \"https://app.roboflow.com/ds/QcJFalciQq?key=iMNChnDmkx\" > roboflow.zip; unzip roboflow.zip; rm roboflow.zip\n",
        "clear_output()"
      ],
      "execution_count": 3,
      "outputs": []
    },
    {
      "cell_type": "markdown",
      "source": [
        "Data with No Augmentation (No_Augmentation)"
      ],
      "metadata": {
        "id": "R-bu4cGtz6p0"
      }
    },
    {
      "cell_type": "code",
      "source": [
        "# %cd /content/droplet_detection\n",
        "# !curl -L \"[ROBOFLOW-API-KEY]\" > roboflow.zip; unzip roboflow.zip; rm roboflow.zip\n",
        "# clear_output()"
      ],
      "metadata": {
        "id": "puTXkA3Dz61A"
      },
      "execution_count": 4,
      "outputs": []
    },
    {
      "cell_type": "markdown",
      "metadata": {
        "id": "hkkReo_oLCD2"
      },
      "source": [
        "# 2.1 Train\n",
        "\n",
        "<p align=\"\"><a href=\"https://roboflow.com/?ref=ultralytics\"><img width=\"1000\" src=\"https://uploads-ssl.webflow.com/5f6bc60e665f54545a1e52a5/615338ba77195c71bd2c5ab1_computer-vision-flow.png\"/></a></p>\n",
        "Close the active learning loop by sampling images from your inference conditions with the `roboflow` pip package\n",
        "<br><br>\n",
        "\n",
        "Train a YOLOv5s model on the [COCO128](https://www.kaggle.com/ultralytics/coco128) dataset with `--data coco128.yaml`, starting from pretrained `--weights yolov5s.pt`, or from randomly initialized `--weights '' --cfg yolov5s.yaml`.\n",
        "\n",
        "- **Pretrained [Models](https://github.com/ultralytics/yolov5/tree/master/models)** are downloaded\n",
        "automatically from the [latest YOLOv5 release](https://github.com/ultralytics/yolov5/releases)\n",
        "- **[Datasets](https://github.com/ultralytics/yolov5/tree/master/data)** available for autodownload include: [COCO](https://github.com/ultralytics/yolov5/blob/master/data/coco.yaml), [COCO128](https://github.com/ultralytics/yolov5/blob/master/data/coco128.yaml), [VOC](https://github.com/ultralytics/yolov5/blob/master/data/VOC.yaml), [Argoverse](https://github.com/ultralytics/yolov5/blob/master/data/Argoverse.yaml), [VisDrone](https://github.com/ultralytics/yolov5/blob/master/data/VisDrone.yaml), [GlobalWheat](https://github.com/ultralytics/yolov5/blob/master/data/GlobalWheat2020.yaml), [xView](https://github.com/ultralytics/yolov5/blob/master/data/xView.yaml), [Objects365](https://github.com/ultralytics/yolov5/blob/master/data/Objects365.yaml), [SKU-110K](https://github.com/ultralytics/yolov5/blob/master/data/SKU-110K.yaml).\n",
        "- **Training Results** are saved to `runs/train/` with incrementing run directories, i.e. `runs/train/exp2`, `runs/train/exp3` etc.\n",
        "<br><br>\n",
        "\n",
        "## Train on Custom Data with Roboflow 🌟 NEW\n",
        "\n",
        "[Roboflow](https://roboflow.com/?ref=ultralytics) enables you to easily **organize, label, and prepare** a high quality dataset with your own custom data. Roboflow also makes it easy to establish an active learning pipeline, collaborate with your team on dataset improvement, and integrate directly into your model building workflow with the `roboflow` pip package.\n",
        "\n",
        "- Custom Training Example: [https://blog.roboflow.com/how-to-train-yolov5-on-a-custom-dataset/](https://blog.roboflow.com/how-to-train-yolov5-on-a-custom-dataset/?ref=ultralytics)\n",
        "- Custom Training Notebook: [![Open In Colab](https://colab.research.google.com/assets/colab-badge.svg)](https://colab.research.google.com/github/roboflow-ai/yolov5-custom-training-tutorial/blob/main/yolov5-custom-training.ipynb)\n",
        "<br>\n",
        "\n",
        "<p align=\"\"><a href=\"https://roboflow.com/?ref=ultralytics\"><img width=\"480\" src=\"https://uploads-ssl.webflow.com/5f6bc60e665f54545a1e52a5/6152a275ad4b4ac20cd2e21a_roboflow-annotate.gif\"/></a></p>Label images lightning fast (including with model-assisted labeling)"
      ]
    },
    {
      "cell_type": "code",
      "metadata": {
        "id": "I7hRNPQOLMYe"
      },
      "source": [
        "# # # Train YOLOv5s on COCO128 for 3 epochs\n",
        "# %cd /content/droplet_detection/yolov5\n",
        "# !python train.py --img 544 --batch 32 --epochs 1 --data '../yaml_files/droplet_model.yaml' --weights '' --cfg ./models/yolov5m.yaml --cache"
      ],
      "execution_count": 5,
      "outputs": []
    },
    {
      "cell_type": "code",
      "metadata": {
        "id": "lOhzdRi7xiL8"
      },
      "source": [
        "# %cp /content/droplet_detection/yolov5/runs/train/exp/weights/best.pt /content/drive/MyDrive/droplet_classification/data_files/yolov5_weights_365_best.pt"
      ],
      "execution_count": 6,
      "outputs": []
    },
    {
      "cell_type": "markdown",
      "source": [
        "# 2.2 Generate high quality mAP plots for validation set"
      ],
      "metadata": {
        "id": "v6v9ZsvF8Kpb"
      }
    },
    {
      "cell_type": "code",
      "source": [
        "# map5 = []\n",
        "# map595 = []\n",
        "# with open('/content/drive/MyDrive/droplet_classification/data_files/yolov5_train_results.csv', newline='') as csvfile:\n",
        "#   spamreader = csv.reader(csvfile, delimiter=',', quotechar='|')\n",
        "#   next(spamreader)\n",
        "#   for row in spamreader:\n",
        "#     for i, elem in enumerate(row):\n",
        "#       if i == 6:\n",
        "#         map5.append(float(elem.strip()))\n",
        "#       if i == 7:\n",
        "#         map595.append(float(elem.strip()))\n",
        "# fig, axs = plt.subplots(1, 2, figsize=(18,6))\n",
        "# axs[0].plot(map5, color=\"blue\", marker='.', linewidth=2, markersize=12)\n",
        "# axs[0].set_ylim(0, 1)\n",
        "# axs[0].tick_params(axis='both', which='major', labelsize=29)\n",
        "# axs[0].set_xlabel(\"Epochs\", fontsize=35, fontfamily=\"Arial\")\n",
        "# axs[0].set_ylabel(\"mAP @ IOU 0.5\", fontsize=35, fontfamily=\"Arial\")\n",
        "# axs[1].plot(map595, color=\"blue\", marker='.', linewidth=2, markersize=12)\n",
        "# axs[1].set_ylim(0, 1)\n",
        "# axs[1].tick_params(axis='both', which='major', labelsize=29)\n",
        "# axs[1].set_ylabel(\"mAP\\n@ IOU 0.5:0.95\", fontsize=35, fontfamily=\"Arial\")\n",
        "# axs[1].set_xlabel(\"Epochs\", fontsize=35, fontfamily=\"Arial\")\n",
        "# fig.suptitle(\"YOLOv5\",fontsize=45,fontfamily=\"Arial\", y=1.05)\n",
        "# fig.tight_layout(pad=4)\n",
        "# # fig.subplots_adjust(top=0.88)\n",
        "\n",
        "# fig.savefig(\"/mAP_yolov5.png\", dpi=500, bbox_inches='tight')\n",
        "# files.download(\"/mAP_yolov5.png\")"
      ],
      "metadata": {
        "id": "H1_sgthZ6rRA"
      },
      "execution_count": 7,
      "outputs": []
    },
    {
      "cell_type": "markdown",
      "metadata": {
        "id": "gH3wycG3Zisv"
      },
      "source": [
        "# 3. Test: Table FPS"
      ]
    },
    {
      "cell_type": "markdown",
      "source": [
        "mAP calculation for droplet model test set"
      ],
      "metadata": {
        "id": "-oFEMHt31qVe"
      }
    },
    {
      "cell_type": "code",
      "metadata": {
        "id": "tHgauumJZlCY",
        "colab": {
          "base_uri": "https://localhost:8080/"
        },
        "outputId": "b5db2c1a-bf9b-410d-ae6e-056279eee938"
      },
      "source": [
        "# Run YOLOv5s on COCO test-dev2017 using --task test\n",
        "%cd /content/droplet_detection/yolov5\n",
        "!python val.py --weights /content/drive/MyDrive/droplet_classification/data_files/yolov5_weights_365_best.pt --img 544 --data ../yaml_files/droplet_model.yaml --task test\n",
        "\n",
        "# # Download Figures\n",
        "# files.download('runs/val/exp/confusion_matrix.tif')\n",
        "# files.download(\"runs/val/exp/PR_curve.png\")"
      ],
      "execution_count": 8,
      "outputs": [
        {
          "output_type": "stream",
          "name": "stdout",
          "text": [
            "/content/droplet_detection/yolov5\n",
            "\u001b[34m\u001b[1mval: \u001b[0mdata=../yaml_files/droplet_model.yaml, weights=['/content/drive/MyDrive/droplet_classification/data_files/yolov5_weights_365_best.pt'], batch_size=32, imgsz=544, conf_thres=0.001, iou_thres=0.6, task=test, device=, workers=8, single_cls=False, augment=False, verbose=False, save_txt=False, save_hybrid=False, save_conf=False, save_json=False, project=runs/val, name=exp, exist_ok=False, half=False, dnn=False\n",
            "YOLOv5 🚀 2022-5-20 torch 1.11.0+cu113 CUDA:0 (Tesla P100-PCIE-16GB, 16281MiB)\n",
            "\n",
            "Fusing layers... \n",
            "YOLOv5m summary: 290 layers, 20865057 parameters, 0 gradients\n",
            "Downloading https://ultralytics.com/assets/Arial.ttf to /root/.config/Ultralytics/Arial.ttf...\n",
            "100% 755k/755k [00:00<00:00, 29.1MB/s]\n",
            "\u001b[34m\u001b[1mtest: \u001b[0mScanning '/content/droplet_detection/yolov5/../test/labels' images and labels...70 found, 0 missing, 0 empty, 0 corrupt: 100% 70/70 [00:00<00:00, 1212.84it/s]\n",
            "\u001b[34m\u001b[1mtest: \u001b[0mNew cache created: /content/droplet_detection/yolov5/../test/labels.cache\n",
            "               Class     Images     Labels          P          R     mAP@.5 mAP@.5:.95: 100% 3/3 [00:03<00:00,  1.32s/it]\n",
            "                 all         70       1653      0.941      0.939      0.969      0.917\n",
            "          drop_0cell         70        422      0.969      0.964      0.987      0.935\n",
            "          drop_1cell         70        468      0.947      0.959      0.972      0.919\n",
            "          drop_2cell         70        397       0.92      0.896      0.953        0.9\n",
            "          drop_3cell         70        366      0.929      0.934      0.964      0.915\n",
            "Speed: 0.1ms pre-process, 9.5ms inference, 12.5ms NMS per image at shape (32, 3, 544, 544)\n",
            "Results saved to \u001b[1mruns/val/exp\u001b[0m\n"
          ]
        }
      ]
    },
    {
      "cell_type": "markdown",
      "metadata": {
        "id": "gA60FSURvOrx"
      },
      "source": [
        "# 4. Conduct average run times across test set: Table FPS"
      ]
    },
    {
      "cell_type": "code",
      "metadata": {
        "id": "f9zG1-MavQZZ"
      },
      "source": [
        "# %cd /content/droplet_detection/yolov5\n",
        "# !python detect.py --weights /content/drive/MyDrive/droplet_classification/data_files/yolov5_weights_365_best.pt --img 544 --conf-thres 0.6 --source=../test/images"
      ],
      "execution_count": 9,
      "outputs": []
    },
    {
      "cell_type": "markdown",
      "metadata": {
        "id": "LktxWj6PlVxt"
      },
      "source": [
        "# Computer Statistics"
      ]
    },
    {
      "cell_type": "code",
      "metadata": {
        "id": "UnAA4aLilU7R"
      },
      "source": [
        "# !nvidia-smi -L\n",
        "# !nvidia-smi"
      ],
      "execution_count": 10,
      "outputs": []
    },
    {
      "cell_type": "code",
      "metadata": {
        "id": "T3WlIpS9laaK"
      },
      "source": [
        "# !lscpu |grep 'Model name'\n",
        "\n",
        "# #no.of sockets i.e available slots for physical processors\n",
        "# !lscpu | grep 'Socket(s):'\n",
        "\n",
        "# #no.of cores each processor is having \n",
        "# !lscpu | grep 'Core(s) per socket:'\n",
        "\n",
        "# #no.of threads each core is having\n",
        "# !lscpu | grep 'Thread(s) per core'\n",
        "\n",
        "# !lscpu | grep \"L3 cache\" \n",
        "\n",
        "# #if it had turbo boost it would've shown Min and Max MHz also but it is only showing current frequency this means it always operates at shown frequency\n",
        "# !lscpu | grep \"MHz\"\n",
        "\n",
        "# #memory that we can use\n",
        "# !free -h --si | awk  '/Mem:/{print $2}'\n",
        "\n",
        "# #hard disk space that we can use\n",
        "# !df -h / | awk '{print $4}'"
      ],
      "execution_count": 11,
      "outputs": []
    }
  ]
}